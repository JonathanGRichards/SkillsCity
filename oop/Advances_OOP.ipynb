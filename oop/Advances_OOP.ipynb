{
  "cells": [
    {
      "cell_type": "markdown",
      "metadata": {
        "id": "S0b6NMwUUa7Q"
      },
      "source": [
        "# AGENDA\n",
        "\n",
        "01 A recap of OOP so far\n",
        "\n",
        "02 Understanding getters & setters\n",
        "\n",
        "03 Introducing the super constructor\n",
        "\n",
        "04 Inheritance\n",
        "\n",
        "05 Hands-on: Complete OOP based exercises\n"
      ]
    },
    {
      "cell_type": "markdown",
      "metadata": {
        "id": "79SCrzkQU3mm"
      },
      "source": [
        "# Advanced OOP\n",
        "\n",
        "**Understanding getters & setter**\n",
        "\n",
        "Rectangle Example:\n",
        "\n",
        "Let's say we have a special box called a \"Rectangle\" that has two important things: a width and a height. We want to make sure that we can both see and change these values.\n",
        "\n",
        "\n",
        "A **\"getter\"** is like a special window that lets us look at the width and height of the rectangle. We can peek through this window and see what the values are, but we can't change them.\n",
        "\n",
        "\n",
        "A **\"setter\"** is like a special door that lets us change the width and height of the rectangle. We can knock on this door and give it new values, and the rectangle will update itself accordingly.\n",
        "\n",
        "After we've changed the width and height, we can look through the \"getter\" windows again to see that the width is now 7 and the height is now 4.\n",
        "\n",
        "Finally, we can do something fun with the rectangle, like calculate its area (which is just the width multiplied by the height) and get the answer of 28.\n",
        "\n",
        "That's basically how \"getters\" and \"setters\" work with rectangles (or any other objects that have important values). They help us see and change those values in a safe and controlled way.\n"
      ]
    },
    {
      "cell_type": "code",
      "execution_count": null,
      "metadata": {
        "id": "b7aiKw4pVnue"
      },
      "outputs": [],
      "source": [
        "# # Rectangle Example:\n",
        "\n",
        "# class Rectangle():\n",
        "#     def __init__(what parameters might go here?):\n",
        "\n",
        "# What else does the constructor need?\n",
        "\n",
        "# # Get the width and height using the getter methods, using the example in the tutorial for syntax.\n",
        "\n",
        "# # Set new values for width and height using the setter methods\n",
        "\n",
        "# # Get the updated width and height\n",
        "\n",
        "# # Add a method to calculate and print the area\n"
      ]
    },
    {
      "cell_type": "markdown",
      "metadata": {
        "id": "7_AeT6DZWN5g"
      },
      "source": [
        "# Answers for the above :"
      ]
    },
    {
      "cell_type": "code",
      "execution_count": null,
      "metadata": {
        "id": "z_fckK-kUU-G"
      },
      "outputs": [],
      "source": [
        "class Rectangle:\n",
        "    def __init__(self, width, height):\n",
        "        self._width = width\n",
        "        self._height = height\n",
        "\n",
        "    # Getter methods\n",
        "    def get_width(self):\n",
        "        return self._width\n",
        "\n",
        "    def get_height(self):\n",
        "        return self._height\n",
        "\n",
        "    # Setter methods\n",
        "    def set_width(self, width):\n",
        "        if (type(width) == 'int'):\n",
        "            self._width = width\n",
        "        else:\n",
        "            print('error')\n",
        "\n",
        "    def set_height(self, height):\n",
        "        self._height = height\n",
        "\n",
        "    # Method to calculate area\n",
        "    def calculate_area(self):\n",
        "        return self._width * self._height\n",
        "\n",
        "# Example usage:\n",
        "# Create a rectangle with width 5 and height 3\n",
        "rectangle = Rectangle(5, 3)\n",
        "\n",
        "# Get the initial width and height\n",
        "initial_width = rectangle.get_width()\n",
        "initial_height = rectangle.get_height()\n",
        "print(\"Initial Width:\", initial_width)  # Output: 5\n",
        "print(\"Initial Height:\", initial_height)  # Output: 3\n",
        "\n",
        "# Set new values for width and height\n",
        "rectangle.set_width(7)\n",
        "rectangle.set_height(4)\n",
        "\n",
        "# Get the updated width and height\n",
        "updated_width = rectangle.get_width()\n",
        "updated_height = rectangle.get_height()\n",
        "print(\"Updated Width:\", updated_width)  # Output: 7\n",
        "print(\"Updated Height:\", updated_height)  # Output: 4\n",
        "\n",
        "# Calculate and print the area\n",
        "area = rectangle.calculate_area()\n",
        "print(\"Area:\", area)  # Output: 28\n"
      ]
    },
    {
      "cell_type": "markdown",
      "metadata": {
        "id": "LBx9rd9H8j6A"
      },
      "source": [
        "# Inheritance\n",
        "Inheritance is a fundamental concept in object-oriented programming (OOP) that allows a new class (called the derived class or subclass) to inherit properties and behaviors from an existing class (called the base class or superclass). This promotes code reusability and helps in creating a hierarchical relationship between classes.\n",
        "\n",
        "**Syntax:**\n",
        "\n",
        "class Employee:Base Class\n",
        "\n",
        "~Code\n",
        "\n",
        "Methods\n",
        "\n",
        "class Programmer(Employee):#Derived or child class\n",
        "\n",
        "~Code\n",
        "\n",
        "# Types of Inheritance\n",
        "\n",
        "1. **Single Inheritance:**\n",
        "\n",
        "In single inheritance, a child class inherits from only one parent class.\n",
        "\n",
        "**Syntax:**\n",
        "\n",
        "class DerivedClassName(BaseClassName):\n",
        "\n",
        "2. **Multiple Inheritance:**\n",
        "\n",
        "Multiple inheritance occurs when a child class inherits from more than one parent class.\n",
        "\n",
        "**Syntax:**\n",
        "\n",
        " class DerivedClassName(Base1, Base2, ...):\n",
        "\n",
        "\n",
        "3. **Multilevel Inheritance:**\n",
        "\n",
        "Multilevel inheritance involves a chain of inheritance where a child class inherits from a parent class, and another class inherits from this child class, forming a hierarchy.\n",
        "\n",
        "**Syntax:**\n",
        "\n",
        " class DerivedClassName(Base1):,class Sub\n",
        " DerivedClassName(DerivedClassName):"
      ]
    },
    {
      "cell_type": "code",
      "execution_count": 3,
      "metadata": {
        "id": "eNRAVvkHydc6"
      },
      "outputs": [
        {
          "name": "stdout",
          "output_type": "stream",
          "text": [
            "Dog\n",
            "Dog makes a sound\n",
            "Labrador barks\n",
            "Method A\n",
            "Method B\n",
            "Method C\n",
            "Ferrari vehicle is being driven\n",
            "Car is parked\n",
            "Ferrari 488 GTB is racing\n"
          ]
        }
      ],
      "source": [
        "\n",
        "class Animal:\n",
        "    def __init__(self, species):\n",
        "        self.species = species\n",
        "\n",
        "    def sound(self):\n",
        "        print(f\"{self.species} makes a sound\")\n",
        "\n",
        "class Dog(Animal):\n",
        "    def __init__(self, breed):\n",
        "        super().__init__(\"Dog\")\n",
        "        self.breed = breed\n",
        "\n",
        "    def bark(self):\n",
        "        print(f\"{self.breed} barks\")\n",
        "\n",
        "# Multiple Inheritance\n",
        "class A:\n",
        "    def methodA(self):\n",
        "        print(\"Method A\")\n",
        "\n",
        "class B:\n",
        "    def methodB(self):\n",
        "        print(\"Method B\")\n",
        "\n",
        "class C(A, B):\n",
        "    def methodC(self):\n",
        "        print(\"Method C\")\n",
        "\n",
        "# Multilevel Inheritance\n",
        "class Vehicle:\n",
        "    def __init__(self, brand):\n",
        "        self.brand = brand\n",
        "\n",
        "    def drive(self):\n",
        "        print(f\"{self.brand} vehicle is being driven\")\n",
        "\n",
        "class Car(Vehicle):\n",
        "    def park(self):\n",
        "        print(\"Car is parked\")\n",
        "\n",
        "class SportsCar(Car):\n",
        "    def __init__(self, brand, model):\n",
        "        super().__init__(brand)\n",
        "        self.model = model\n",
        "\n",
        "    def race(self):\n",
        "        print(f\"{self.brand} {self.model} is racing\")\n",
        "\n",
        "# Usage\n",
        "# Single Inheritance\n",
        "dog = Dog(\"Labrador\")\n",
        "print(dog.species)\n",
        "dog.sound()  # Output: Dog makes a sound\n",
        "dog.bark()   # Output: Labrador barks\n",
        "\n",
        "# Multiple Inheritance\n",
        "c = C()\n",
        "c.methodA()  # Output: Method A\n",
        "c.methodB()  # Output: Method B\n",
        "c.methodC()  # Output: Method C\n",
        "\n",
        "# Multilevel Inheritance\n",
        "sports_car = SportsCar(\"Ferrari\", \"488 GTB\")\n",
        "sports_car.drive()  # Output: Ferrari vehicle is being driven\n",
        "sports_car.park()   # Output: Car is parked\n",
        "sports_car.race()   # Output: Ferrari 488 GTB is racing"
      ]
    },
    {
      "cell_type": "markdown",
      "metadata": {
        "id": "u_ArAsFF9_B9"
      },
      "source": [
        "# Excercise: Inheritance in Python"
      ]
    },
    {
      "cell_type": "code",
      "execution_count": 1,
      "metadata": {
        "id": "C-BeA4Dh91wM"
      },
      "outputs": [],
      "source": [
        "#Base Class\n",
        "\n",
        "# class Employee:\n",
        "\n",
        "#   def __init__(What attributes should an employee have?):\n",
        "#\n",
        "\n",
        "# Add a method to show the details of an instance of the Employee class\n",
        "\n",
        "# Create a class called programmer that inherits from the Employee class\n",
        "\n",
        "# // code goes here\n",
        "\n",
        "# Inherit from the Employee class\n",
        "\n",
        "# Add a method to show details of the Programmer class\n",
        "\n",
        "# Add getters & setters to the Programmer class\n",
        "\n",
        "# Use the G&S methods to update the information of your Programmer\n",
        "\n",
        "# Display the updated information"
      ]
    },
    {
      "cell_type": "markdown",
      "metadata": {
        "id": "SuPKV2vO_RQR"
      },
      "source": [
        "# Excercise: Speed Practice"
      ]
    },
    {
      "cell_type": "code",
      "execution_count": null,
      "metadata": {
        "id": "4CJQjX4TPOdB"
      },
      "outputs": [],
      "source": [
        "# # # Exercise 1:\n",
        "\n",
        "# # ### This code aims to print the numbers from 1 to 5\n",
        "\n",
        "# for i in range(1, 6):\n",
        "#   print(i)\n",
        "\n",
        "# # What is wrong with the code? How can you fix it?"
      ]
    },
    {
      "cell_type": "code",
      "execution_count": null,
      "metadata": {
        "id": "mczS_dlt_Q2I"
      },
      "outputs": [],
      "source": [
        "# # # Exercise 2:\n",
        "\n",
        "# # ### This code is supposed to check if a number is positive or negative\n",
        "\n",
        "# num = int(input(\"Enter a number: \"))\n",
        "# if num > 0:\n",
        "#   print(\"The number is positive.\")\n",
        "# else:\n",
        "#   print(\"The number is negative.\")\n",
        "\n",
        "# # # What is wrong with the code? How can you fix it?\n"
      ]
    },
    {
      "cell_type": "code",
      "execution_count": null,
      "metadata": {
        "id": "2AQao0C6_Nod"
      },
      "outputs": [],
      "source": [
        " # # # Exercise 3:\n",
        "\n",
        "# # # ### This code checks if a given string is a palindrome\n",
        "\n",
        "# word = \"radhadiasdajsdar\"\n",
        "# reversed_word = word[::-1]\n",
        "# if word == reversed_word:\n",
        "#   print(\"The word is a palindrome.\")\n",
        "# else:\n",
        "#   print(\"The word is not a palindrome.\")\n",
        "\n",
        "# # What is wrong with the code? How can you fix it? (Use google to find out how to reverse a string!)\n"
      ]
    },
    {
      "cell_type": "code",
      "execution_count": null,
      "metadata": {
        "id": "ufA67yFJPbnP"
      },
      "outputs": [],
      "source": [
        "# # # Exercise 4:\n",
        "\n",
        "# # ### Modify the class below called Car with a color attribute and a method to print the color.\n",
        "# # What is wrong with the code? How can you fix it?\n",
        "\n",
        "\n",
        "class car:\n",
        "\n",
        "  def __init__(self, color):\n",
        "    self.colour = color\n",
        "\n",
        "  def print_color(self):\n",
        "    print(f\"The car color is: {self.color}\")\n",
        "\n",
        "\n",
        "# ---------------------------------------\n",
        "\n",
        "# Create an object of the Car class with color \"red\" and print its color\n",
        "\n",
        "a = Car(\"Red\")\n",
        "a.print\n",
        "#code goes here\n",
        "\n",
        "# -----------------------------------------\n",
        "# What is the purpose of the __init__ method in the Car class? How can you create an object of the Car class with a different color?"
      ]
    },
    {
      "cell_type": "code",
      "execution_count": null,
      "metadata": {
        "id": "2kM5VqWxPhv1"
      },
      "outputs": [],
      "source": [
        "# # Exercise 5:\n",
        "\n",
        "# ### Create a class called Rectangle with attributes width and height, and a method to calculate its area\n",
        "\n",
        "# ###Create an object of the Rectangle class with width 5 and height 3, then calculate and print its area\n",
        "\n",
        "# What are the attributes of the Rectangle class? How can you create an object of the Rectangle class with different width and height values"
      ]
    },
    {
      "cell_type": "code",
      "execution_count": null,
      "metadata": {
        "id": "KfGod9UMPwjz"
      },
      "outputs": [],
      "source": [
        "# # Exercise 6:(Intermediate)\n",
        "\n",
        "# ### Create a class called Product with attributes name and price, and a method to apply a discount\n",
        "\n",
        "# # Hint: self.price -= (self.price * discount)\n",
        "\n",
        "# #### Create an object of the Product class, set the price to 100, apply a 20% discount, and print the final price\n",
        "\n",
        "# How can you modify the code to ensure that the discount value is between 0 and 1?"
      ]
    },
    {
      "cell_type": "markdown",
      "metadata": {
        "id": "sSUPhSRoPbWi"
      },
      "source": [
        "# Recap\n",
        "\n",
        "* Recap to OOP\n",
        "\n",
        "* Understanding Getter and Setter\n",
        "\n",
        "* Introduction to Inheritance.\n",
        "\n",
        "* Types of Inheritance.\n",
        "\n",
        "*  Hands-On Excercises"
      ]
    }
  ],
  "metadata": {
    "colab": {
      "private_outputs": true,
      "provenance": []
    },
    "kernelspec": {
      "display_name": "Python 3",
      "name": "python3"
    },
    "language_info": {
      "codemirror_mode": {
        "name": "ipython",
        "version": 3
      },
      "file_extension": ".py",
      "mimetype": "text/x-python",
      "name": "python",
      "nbconvert_exporter": "python",
      "pygments_lexer": "ipython3",
      "version": "3.13.1"
    }
  },
  "nbformat": 4,
  "nbformat_minor": 0
}
